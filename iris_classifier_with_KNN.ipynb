{
  "nbformat": 4,
  "nbformat_minor": 0,
  "metadata": {
    "colab": {
      "name": "iris classifier with KNN.ipynb",
      "provenance": [],
      "authorship_tag": "ABX9TyNRCdloj6H7e8ibJfHMzuGH",
      "include_colab_link": true
    },
    "kernelspec": {
      "name": "python3",
      "display_name": "Python 3"
    }
  },
  "cells": [
    {
      "cell_type": "markdown",
      "metadata": {
        "id": "view-in-github",
        "colab_type": "text"
      },
      "source": [
        "<a href=\"https://colab.research.google.com/github/chaitanya-kolliboyina/iris/blob/main/iris_classifier_with_KNN.ipynb\" target=\"_parent\"><img src=\"https://colab.research.google.com/assets/colab-badge.svg\" alt=\"Open In Colab\"/></a>"
      ]
    },
    {
      "cell_type": "code",
      "metadata": {
        "id": "FAaQss0wQYiP"
      },
      "source": [
        "import numpy as np\n",
        "import pandas as pd\n",
        "import matplotlib.pyplot as plt\n"
      ],
      "execution_count": null,
      "outputs": []
    },
    {
      "cell_type": "markdown",
      "metadata": {
        "id": "ZKGMy-n2uUu-"
      },
      "source": [
        "importing the required data set(load_iris) and assigning to an object(iris_dataset)"
      ]
    },
    {
      "cell_type": "code",
      "metadata": {
        "id": "6njqBrsXQo7g"
      },
      "source": [
        "from sklearn.datasets import load_iris\n",
        "iris_dataset = load_iris()"
      ],
      "execution_count": null,
      "outputs": []
    },
    {
      "cell_type": "code",
      "metadata": {
        "colab": {
          "base_uri": "https://localhost:8080/"
        },
        "id": "4x1j1b0HROmZ",
        "outputId": "cffd76ff-5646-4da9-e73a-800826b11f7e"
      },
      "source": [
        "print(\"key of iris data set \\n\",iris_dataset.keys())"
      ],
      "execution_count": null,
      "outputs": [
        {
          "output_type": "stream",
          "text": [
            "key of iris data set \n",
            " dict_keys(['data', 'target', 'target_names', 'DESCR', 'feature_names', 'filename'])\n"
          ],
          "name": "stdout"
        }
      ]
    },
    {
      "cell_type": "code",
      "metadata": {
        "colab": {
          "base_uri": "https://localhost:8080/"
        },
        "id": "CB7mhVuaRkhi",
        "outputId": "eb6e02c6-b543-47bb-88e1-417f3c58fd37"
      },
      "source": [
        "print(iris_dataset['DESCR'][:193] +\" \\n\")"
      ],
      "execution_count": null,
      "outputs": [
        {
          "output_type": "stream",
          "text": [
            ".. _iris_dataset:\n",
            "\n",
            "Iris plants dataset\n",
            "--------------------\n",
            "\n",
            "**Data Set Characteristics:**\n",
            "\n",
            "    :Number of Instances: 150 (50 in each of three classes)\n",
            "    :Number of Attributes: 4 numeric, pre \n",
            "\n"
          ],
          "name": "stdout"
        }
      ]
    },
    {
      "cell_type": "code",
      "metadata": {
        "colab": {
          "base_uri": "https://localhost:8080/"
        },
        "id": "xWSy37Z7SJMt",
        "outputId": "15d70858-0559-4f7e-ffaa-724d262f205c"
      },
      "source": [
        "print(\"Target names \",iris_dataset['target_names'])"
      ],
      "execution_count": null,
      "outputs": [
        {
          "output_type": "stream",
          "text": [
            "Target names  ['setosa' 'versicolor' 'virginica']\n"
          ],
          "name": "stdout"
        }
      ]
    },
    {
      "cell_type": "code",
      "metadata": {
        "colab": {
          "base_uri": "https://localhost:8080/"
        },
        "id": "fZ2w_tikTKJ7",
        "outputId": "07075038-18aa-4f30-e899-18e8b80ffe6c"
      },
      "source": [
        "print(iris_dataset['feature_names'])"
      ],
      "execution_count": null,
      "outputs": [
        {
          "output_type": "stream",
          "text": [
            "['sepal length (cm)', 'sepal width (cm)', 'petal length (cm)', 'petal width (cm)']\n"
          ],
          "name": "stdout"
        }
      ]
    },
    {
      "cell_type": "code",
      "metadata": {
        "colab": {
          "base_uri": "https://localhost:8080/"
        },
        "id": "Jo619Q7gTi0t",
        "outputId": "592b85b7-947c-455d-9321-18e2f48186db"
      },
      "source": [
        "print(iris_dataset['data'].shape)"
      ],
      "execution_count": null,
      "outputs": [
        {
          "output_type": "stream",
          "text": [
            "(150, 4)\n"
          ],
          "name": "stdout"
        }
      ]
    },
    {
      "cell_type": "markdown",
      "metadata": {
        "id": "cB5umbX7UXaK"
      },
      "source": [
        "train_test_split function splits the data into 75% train data and 25% test data aftert randamising"
      ]
    },
    {
      "cell_type": "code",
      "metadata": {
        "id": "kvW48yMaUqLq"
      },
      "source": [
        "from sklearn.model_selection import train_test_split\n",
        "x_train,X_test,y_train,Y_test=train_test_split(iris_dataset['data'],iris_dataset['target'],random_state=0)"
      ],
      "execution_count": null,
      "outputs": []
    },
    {
      "cell_type": "code",
      "metadata": {
        "colab": {
          "base_uri": "https://localhost:8080/"
        },
        "id": "G7J_vMc6WcAW",
        "outputId": "cec9ed7e-a714-4aa7-ed4a-6a9d86a1528b"
      },
      "source": [
        "print(x_train.shape)"
      ],
      "execution_count": null,
      "outputs": [
        {
          "output_type": "stream",
          "text": [
            "(112, 4)\n"
          ],
          "name": "stdout"
        }
      ]
    },
    {
      "cell_type": "code",
      "metadata": {
        "id": "DfG9HcEEWtuX"
      },
      "source": [
        "from sklearn.neighbors import KNeighborsClassifier\n",
        "knn=KNeighborsClassifier(n_neighbors=1)"
      ],
      "execution_count": null,
      "outputs": []
    },
    {
      "cell_type": "markdown",
      "metadata": {
        "id": "CIH6iIRBuFAr"
      },
      "source": [
        "The knn object encapsulates the algorithm that will be used to build the model from\n",
        "the training data, as well the algorithm to make predictions on new data points. It will\n",
        "also hold the information that the algorithm has extracted from the training data. In\n",
        "the case of KNeighborsClassifier, it will just store the training set."
      ]
    },
    {
      "cell_type": "code",
      "metadata": {
        "colab": {
          "base_uri": "https://localhost:8080/"
        },
        "id": "aMoNrx9KoWoP",
        "outputId": "27f6c5f9-2628-4f91-f650-6008196297d0"
      },
      "source": [
        "knn.fit(x_train, y_train)"
      ],
      "execution_count": null,
      "outputs": [
        {
          "output_type": "execute_result",
          "data": {
            "text/plain": [
              "KNeighborsClassifier(algorithm='auto', leaf_size=30, metric='minkowski',\n",
              "                     metric_params=None, n_jobs=None, n_neighbors=1, p=2,\n",
              "                     weights='uniform')"
            ]
          },
          "metadata": {
            "tags": []
          },
          "execution_count": 12
        }
      ]
    },
    {
      "cell_type": "markdown",
      "metadata": {
        "id": "1ojySb7tWKfJ"
      },
      "source": [
        "To build the model on the training set, we call the fit method of the knn object,\n",
        "which takes as arguments the NumPy array X_train containing the training data and\n",
        "the NumPy array y_train of the corresponding training labels:"
      ]
    },
    {
      "cell_type": "code",
      "metadata": {
        "id": "HoOyt_wFuIcb"
      },
      "source": [
        "\n",
        "X_new = np.array([[5, 2.9, 1, 0.2]])"
      ],
      "execution_count": null,
      "outputs": []
    },
    {
      "cell_type": "markdown",
      "metadata": {
        "id": "rcucgEuiI2lf"
      },
      "source": [
        "We can now make predictions using this model on new data for which we might not\n",
        "know the correct labels. Imagine we found an iris in the wild with a sepal length of\n",
        "5 cm, a sepal width of 2.9 cm, a petal length of 1 cm, and a petal width of 0.2 cm.\n",
        "What species of iris would this be? We can put this data into a NumPy array, again by\n",
        "calculating the shape—that is, the number of samples (1) multiplied by the number of\n",
        "features (4):"
      ]
    },
    {
      "cell_type": "code",
      "metadata": {
        "id": "PDpwodTQInTB"
      },
      "source": [
        "prediction = knn.predict(X_new)\n"
      ],
      "execution_count": null,
      "outputs": []
    },
    {
      "cell_type": "markdown",
      "metadata": {
        "id": "Nbs8mg17JLgC"
      },
      "source": [
        "To make a prediction, we call the predict method of the knn object:"
      ]
    },
    {
      "cell_type": "code",
      "metadata": {
        "colab": {
          "base_uri": "https://localhost:8080/"
        },
        "id": "mRiHegQUJKd7",
        "outputId": "c28e1e6a-c25d-4654-f9a2-c7ccbe8a45e6"
      },
      "source": [
        "print(\"Prediction: \" ,prediction)\n",
        "print(\"Predicted target name: \",iris_dataset['target_names'][prediction])"
      ],
      "execution_count": null,
      "outputs": [
        {
          "output_type": "stream",
          "text": [
            "Prediction:  [0]\n",
            "Predicted target name:  ['setosa']\n"
          ],
          "name": "stdout"
        }
      ]
    },
    {
      "cell_type": "code",
      "metadata": {
        "colab": {
          "base_uri": "https://localhost:8080/"
        },
        "id": "5UY5xkc6JkLP",
        "outputId": "e7be57e6-12b6-4c48-fb84-4c6c282e8dab"
      },
      "source": [
        "y_pred = knn.predict(X_test)\n",
        "print(\"Test set predictions:\\n \",y_pred)\n"
      ],
      "execution_count": null,
      "outputs": [
        {
          "output_type": "stream",
          "text": [
            "Test set predictions:\n",
            "  [2 1 0 2 0 2 0 1 1 1 2 1 1 1 1 0 1 1 0 0 2 1 0 0 2 0 0 1 1 0 2 1 0 2 2 1 0\n",
            " 2]\n"
          ],
          "name": "stdout"
        }
      ]
    },
    {
      "cell_type": "code",
      "metadata": {
        "colab": {
          "base_uri": "https://localhost:8080/"
        },
        "id": "Tm_EMyCeKd-F",
        "outputId": "adf28ef7-e20d-4cfb-81a4-00df4529edea"
      },
      "source": [
        "print(\"Test set score: {:.2f}\".format(np.mean(y_pred == Y_test)))"
      ],
      "execution_count": null,
      "outputs": [
        {
          "output_type": "stream",
          "text": [
            "Test set score: 0.97\n"
          ],
          "name": "stdout"
        }
      ]
    },
    {
      "cell_type": "markdown",
      "metadata": {
        "id": "YayW0UA7K2uy"
      },
      "source": [
        "Test score is the mean of all test predictions"
      ]
    },
    {
      "cell_type": "markdown",
      "metadata": {
        "id": "NOoSZLftR_-p"
      },
      "source": [
        " The possible species are called classes in the classification problem, and the\n",
        "species of a single iris is called its label."
      ]
    },
    {
      "cell_type": "code",
      "metadata": {
        "id": "gkDk_Z1YKmVw"
      },
      "source": [
        " "
      ],
      "execution_count": null,
      "outputs": []
    },
    {
      "cell_type": "markdown",
      "metadata": {
        "id": "PqwnKfS4KzYY"
      },
      "source": [
        ""
      ]
    }
  ]
}